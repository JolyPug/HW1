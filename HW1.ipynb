{
 "cells": [
  {
   "cell_type": "code",
   "execution_count": 1,
   "id": "c600c983",
   "metadata": {},
   "outputs": [
    {
     "name": "stdout",
     "output_type": "stream",
     "text": [
      "Введите слово: test\n",
      "es\n"
     ]
    }
   ],
   "source": [
    "## Задание 1\n",
    "\n",
    "word = input('Введите слово: ')\n",
    "\n",
    "if len(word) % 2 == 1:\n",
    "    print(word[len(word) // 2])\n",
    "else:\n",
    "    print(word[len(word) // 2 - 1: len(word) // 2 + 1])"
   ]
  },
  {
   "cell_type": "code",
   "execution_count": 2,
   "id": "45a5c615",
   "metadata": {
    "scrolled": true
   },
   "outputs": [
    {
     "name": "stdout",
     "output_type": "stream",
     "text": [
      "Введите число: 1\n",
      "Введите число: 4\n",
      "Введите число: 6\n",
      "Введите число: 7\n",
      "Введите число: 0\n",
      "Сумма ранее введённых чисел =  18\n"
     ]
    }
   ],
   "source": [
    "# Задание 2\n",
    "\n",
    "sum = 0\n",
    "x = -1\n",
    "\n",
    "while x != 0:\n",
    "    x = int(input('Введите число: '))\n",
    "    sum = sum + x\n",
    "\n",
    "print('Сумма ранее введённых чисел = ', sum)"
   ]
  },
  {
   "cell_type": "code",
   "execution_count": 3,
   "id": "49e320d6",
   "metadata": {
    "scrolled": true
   },
   "outputs": [
    {
     "name": "stdout",
     "output_type": "stream",
     "text": [
      "Введите имена парней через пробел:\n",
      "Кирилл Ваня Дима Никита\n",
      "Введите имена девушек через пробел:\n",
      "Лиза Аня Вика Ангелина\n",
      "Результат: Идеальные пары: \n",
      "Ваня  и  Ангелина\n",
      "Дима  и  Аня\n",
      "Кирилл  и  Вика\n",
      "Никита  и  Лиза\n"
     ]
    }
   ],
   "source": [
    "# Задание 3\n",
    "\n",
    "b = input('Введите имена парней через пробел:\\n')\n",
    "g = input('Введите имена девушек через пробел:\\n')\n",
    "\n",
    "boys = b.split()\n",
    "girls = g.split()\n",
    "\n",
    "\n",
    "if len(boys) == len(girls):\n",
    "    boys.sort()\n",
    "    girls.sort()\n",
    "    couple = zip(boys, girls)\n",
    "    print('Результат: Идеальные пары: ')\n",
    "    for best_couple in couple:\n",
    "        print(best_couple[0], ' и ', best_couple[1])\n",
    "else:\n",
    "    print('Внимание, кто-то может остаться без пары!')"
   ]
  },
  {
   "cell_type": "code",
   "execution_count": 4,
   "id": "189a20ca",
   "metadata": {},
   "outputs": [
    {
     "name": "stdout",
     "output_type": "stream",
     "text": [
      "Средняя температура в странах:\n",
      "Thailand 23.9 C\n",
      "Germany 13.8 C\n",
      "Russia 3.7 C\n",
      "Poland 12.0 C\n"
     ]
    }
   ],
   "source": [
    "#Задание 4\n",
    "\n",
    "def tempa(i):\n",
    "    l = 0\n",
    "    s = 0\n",
    "    while (l < k):\n",
    "        s = s + ((countries_temperature[i][1][l] - 32)*(5/9))\n",
    "        l+= 1\n",
    "    sred = s / k\n",
    "    sred = round(sred, 1)\n",
    "    print(countries_temperature[i][0] , sred, 'C')\n",
    "\n",
    "countries_temperature = [['Thailand', [75.2, 77, 78.8, 73.4, 68, 75.2, 77]],\n",
    "                         ['Germany', [57.2, 55.4, 59, 59, 53.6]],\n",
    "                         ['Russia', [35.6, 37.4, 39.2, 41, 42.8, 39.2, 35.6]],\n",
    "                         ['Poland', [50, 50, 53.6, 57.2, 55.4, 55.4]]]\n",
    "g = int(len(countries_temperature))\n",
    "i = 0\n",
    "print(\"Средняя температура в странах:\")\n",
    "while (i<g):\n",
    "    k = int(len(countries_temperature[i][1]))\n",
    "    tempa(i)\n",
    "    i = i + 1"
   ]
  },
  {
   "cell_type": "code",
   "execution_count": 5,
   "id": "2509beae",
   "metadata": {},
   "outputs": [
    {
     "name": "stdout",
     "output_type": "stream",
     "text": [
      "{98, 35, 11, 15, 21, 213, 119, 54}\n"
     ]
    }
   ],
   "source": [
    "# Задание 5\n",
    "\n",
    "ids = {'user1': [213, 213, 21, 15, 213], 'user2': [54, 54, 119, 119, 11], 'user3': [213, 98, 98, 35]}\n",
    "\n",
    "Ans = []\n",
    "for i in ids.values():\n",
    "  Ans += i\n",
    "B = set(Ans)\n",
    "print(B)"
   ]
  },
  {
   "cell_type": "code",
   "execution_count": 6,
   "id": "abe9221e",
   "metadata": {},
   "outputs": [
    {
     "name": "stdout",
     "output_type": "stream",
     "text": [
      "Поисковых запросов, содержащих 2 слов(а): 42.86%\n",
      "Поисковых запросов, содержащих 3 слов(а): 57.14%\n"
     ]
    }
   ],
   "source": [
    "#Задание 6\n",
    "\n",
    "queries = [\n",
    "'смотреть сериалы онлайн',\n",
    "'новости спорта',\n",
    "'афиша кино',\n",
    "'курс доллара',\n",
    "'сериалы этим летом',\n",
    "'курс по питону',\n",
    "'сериалы про спорт',\n",
    "]\n",
    "\n",
    "two = 0\n",
    "three = 0\n",
    "\n",
    "for i in queries:\n",
    "  if i.count(\" \") == 1:\n",
    "    two += 1\n",
    "  else:\n",
    "    three += 1\n",
    "\n",
    "print(\"Поисковых запросов, содержащих 2 слов(а): \" + \"%.2f\"%(two / (two+three) * 100) + \"%\")\n",
    "print(\"Поисковых запросов, содержащих 3 слов(а): \" + \"%.2f\"%(three / (two+three) * 100) + \"%\")"
   ]
  },
  {
   "cell_type": "code",
   "execution_count": 7,
   "id": "5ca39308",
   "metadata": {},
   "outputs": [
    {
     "name": "stdout",
     "output_type": "stream",
     "text": [
      "{'vk': {'revenue': 103, 'cost': 98, 'ROI': 5.102040816326525}, 'yandex': {'revenue': 179, 'cost': 153, 'ROI': 16.99346405228759}, 'facebook': {'revenue': 103, 'cost': 110, 'ROI': -6.36363636363636}, 'adwords': {'revenue': 35, 'cost': 34, 'ROI': 2.941176470588225}, 'twitter': {'revenue': 11, 'cost': 24, 'ROI': -54.16666666666667}}\n"
     ]
    }
   ],
   "source": [
    "#Задание 7\n",
    "\n",
    "results = {\n",
    "'vk': {'revenue': 103, 'cost': 98},\n",
    "'yandex': {'revenue': 179, 'cost': 153},\n",
    "'facebook': {'revenue': 103, 'cost': 110},\n",
    "'adwords': {'revenue': 35, 'cost': 34},\n",
    "'twitter': {'revenue': 11, 'cost': 24},\n",
    "}\n",
    "\n",
    "for i in results:\n",
    "  results[i]['ROI'] = (results[i]['revenue'] / results[i]['cost'] - 1) * 100\n",
    "\n",
    "print(results)"
   ]
  },
  {
   "cell_type": "code",
   "execution_count": 8,
   "id": "7f18583e",
   "metadata": {},
   "outputs": [
    {
     "name": "stdout",
     "output_type": "stream",
     "text": [
      "Результат: Максимальный объем продаж на рекламном канале: vk\n"
     ]
    }
   ],
   "source": [
    "#Задание 8\n",
    "\n",
    "stats = {'facebook': 55, 'yandex': 115, 'vk': 120, 'google': 99, 'email': 42, 'ok': 98}\n",
    "\n",
    "print(\"Результат: Максимальный объем продаж на рекламном канале:\", max(stats, key=stats.get))"
   ]
  },
  {
   "cell_type": "code",
   "execution_count": null,
   "id": "ad58e815",
   "metadata": {},
   "outputs": [],
   "source": []
  }
 ],
 "metadata": {
  "kernelspec": {
   "display_name": "Python 3 (ipykernel)",
   "language": "python",
   "name": "python3"
  },
  "language_info": {
   "codemirror_mode": {
    "name": "ipython",
    "version": 3
   },
   "file_extension": ".py",
   "mimetype": "text/x-python",
   "name": "python",
   "nbconvert_exporter": "python",
   "pygments_lexer": "ipython3",
   "version": "3.9.13"
  }
 },
 "nbformat": 4,
 "nbformat_minor": 5
}
